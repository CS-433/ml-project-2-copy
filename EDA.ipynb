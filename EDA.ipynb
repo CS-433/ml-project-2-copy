{
 "cells": [
  {
   "cell_type": "markdown",
   "id": "specialized-batman",
   "metadata": {},
   "source": [
    "## 1. Imports"
   ]
  },
  {
   "cell_type": "code",
   "execution_count": 1,
   "id": "alternative-board",
   "metadata": {},
   "outputs": [],
   "source": [
    "import matplotlib.pyplot as plt\n",
    "import seaborn as sns\n",
    "import pandas as pd\n",
    "import numpy as np\n",
    "import nltk\n",
    "import json\n",
    "\n",
    "\n",
    "from tqdm import tqdm\n",
    "from nltk.corpus import stopwords\n",
    "from nltk.stem import *\n",
    "from nltk.stem.snowball import SnowballStemmer\n",
    "\n",
    "\n",
    "tqdm.pandas()"
   ]
  },
  {
   "cell_type": "markdown",
   "id": "talented-chassis",
   "metadata": {},
   "source": [
    "## 2. Load data"
   ]
  },
  {
   "cell_type": "code",
   "execution_count": 19,
   "id": "scenic-workplace",
   "metadata": {},
   "outputs": [],
   "source": [
    "PATH_DATA = 'Data/twitter-datasets/'\n",
    "PATH = 'DATA/'\n",
    "\n",
    "t_pos = pd.read_fwf(PATH_DATA + 'train_pos_full.txt', header = None, names = ['Tweet'], colspecs = [(0,280)])\n",
    "t_neg = pd.read_fwf(PATH_DATA + 'train_neg_full.txt', header = None, names = ['Tweet'], colspecs = [(0,280)])\n",
    "\n"
   ]
  },
  {
   "cell_type": "markdown",
   "id": "abstract-riverside",
   "metadata": {},
   "source": [
    "## 3. Counting number of words "
   ]
  },
  {
   "cell_type": "code",
   "execution_count": 20,
   "id": "lesser-interview",
   "metadata": {},
   "outputs": [
    {
     "name": "stderr",
     "output_type": "stream",
     "text": [
      "100%|██████████| 1250000/1250000 [00:03<00:00, 392967.85it/s]\n"
     ]
    }
   ],
   "source": [
    "t_pos['count_word'] = t_pos['Tweet'].progress_apply(lambda x : len(x.split()))"
   ]
  },
  {
   "cell_type": "code",
   "execution_count": 21,
   "id": "accompanied-period",
   "metadata": {},
   "outputs": [
    {
     "name": "stderr",
     "output_type": "stream",
     "text": [
      "100%|██████████| 1250000/1250000 [00:03<00:00, 395881.95it/s]\n"
     ]
    }
   ],
   "source": [
    "t_neg['count_word'] = t_neg['Tweet'].progress_apply(lambda x : len(x.split()))"
   ]
  },
  {
   "cell_type": "markdown",
   "id": "departmental-trademark",
   "metadata": {},
   "source": [
    "## 4. Counting number of characters"
   ]
  },
  {
   "cell_type": "code",
   "execution_count": 22,
   "id": "trying-material",
   "metadata": {},
   "outputs": [
    {
     "name": "stderr",
     "output_type": "stream",
     "text": [
      "100%|██████████| 1250000/1250000 [00:01<00:00, 741397.20it/s]\n"
     ]
    }
   ],
   "source": [
    "t_pos['count_characters'] = t_pos['Tweet'].progress_apply(lambda x : len(x))"
   ]
  },
  {
   "cell_type": "code",
   "execution_count": 23,
   "id": "stuck-royal",
   "metadata": {},
   "outputs": [
    {
     "name": "stderr",
     "output_type": "stream",
     "text": [
      "100%|██████████| 1250000/1250000 [00:01<00:00, 722642.44it/s]\n"
     ]
    }
   ],
   "source": [
    "t_neg['count_characters'] = t_neg['Tweet'].progress_apply(lambda x : len(x))"
   ]
  },
  {
   "cell_type": "code",
   "execution_count": 24,
   "id": "correct-stake",
   "metadata": {},
   "outputs": [
    {
     "data": {
      "text/html": [
       "<div>\n",
       "<style scoped>\n",
       "    .dataframe tbody tr th:only-of-type {\n",
       "        vertical-align: middle;\n",
       "    }\n",
       "\n",
       "    .dataframe tbody tr th {\n",
       "        vertical-align: top;\n",
       "    }\n",
       "\n",
       "    .dataframe thead th {\n",
       "        text-align: right;\n",
       "    }\n",
       "</style>\n",
       "<table border=\"1\" class=\"dataframe\">\n",
       "  <thead>\n",
       "    <tr style=\"text-align: right;\">\n",
       "      <th></th>\n",
       "      <th>Tweet</th>\n",
       "      <th>count_word</th>\n",
       "      <th>count_characters</th>\n",
       "    </tr>\n",
       "  </thead>\n",
       "  <tbody>\n",
       "    <tr>\n",
       "      <th>0</th>\n",
       "      <td>&lt;user&gt; i dunno justin read my mention or not ....</td>\n",
       "      <td>27</td>\n",
       "      <td>127</td>\n",
       "    </tr>\n",
       "    <tr>\n",
       "      <th>1</th>\n",
       "      <td>because your logic is so dumb , i won't even c...</td>\n",
       "      <td>21</td>\n",
       "      <td>91</td>\n",
       "    </tr>\n",
       "    <tr>\n",
       "      <th>2</th>\n",
       "      <td>\" &lt;user&gt; just put casper in a box ! \" looved t...</td>\n",
       "      <td>15</td>\n",
       "      <td>69</td>\n",
       "    </tr>\n",
       "    <tr>\n",
       "      <th>3</th>\n",
       "      <td>&lt;user&gt; &lt;user&gt; thanks sir &gt; &gt; don't trip lil ma...</td>\n",
       "      <td>17</td>\n",
       "      <td>78</td>\n",
       "    </tr>\n",
       "    <tr>\n",
       "      <th>4</th>\n",
       "      <td>visiting my brother tmr is the bestest birthda...</td>\n",
       "      <td>13</td>\n",
       "      <td>66</td>\n",
       "    </tr>\n",
       "  </tbody>\n",
       "</table>\n",
       "</div>"
      ],
      "text/plain": [
       "                                               Tweet  count_word  \\\n",
       "0  <user> i dunno justin read my mention or not ....          27   \n",
       "1  because your logic is so dumb , i won't even c...          21   \n",
       "2  \" <user> just put casper in a box ! \" looved t...          15   \n",
       "3  <user> <user> thanks sir > > don't trip lil ma...          17   \n",
       "4  visiting my brother tmr is the bestest birthda...          13   \n",
       "\n",
       "   count_characters  \n",
       "0               127  \n",
       "1                91  \n",
       "2                69  \n",
       "3                78  \n",
       "4                66  "
      ]
     },
     "execution_count": 24,
     "metadata": {},
     "output_type": "execute_result"
    }
   ],
   "source": [
    "t_pos.head()"
   ]
  },
  {
   "cell_type": "markdown",
   "id": "adverse-killer",
   "metadata": {},
   "source": [
    "## 5. Replacing contractions and lowercasing and stemming\n",
    "https://stackoverflow.com/questions/46786211/counting-the-frequency-of-words-in-a-pandas-data-frame"
   ]
  },
  {
   "cell_type": "code",
   "execution_count": 25,
   "id": "divided-spokesman",
   "metadata": {},
   "outputs": [],
   "source": [
    "t_pos['Tweet'] = t_pos['Tweet'].apply(lambda x : x.lower())\n",
    "t_neg['Tweet'] = t_neg['Tweet'].apply(lambda x : x.lower())"
   ]
  },
  {
   "cell_type": "code",
   "execution_count": 26,
   "id": "recognized-purse",
   "metadata": {},
   "outputs": [
    {
     "data": {
      "text/html": [
       "<div>\n",
       "<style scoped>\n",
       "    .dataframe tbody tr th:only-of-type {\n",
       "        vertical-align: middle;\n",
       "    }\n",
       "\n",
       "    .dataframe tbody tr th {\n",
       "        vertical-align: top;\n",
       "    }\n",
       "\n",
       "    .dataframe thead th {\n",
       "        text-align: right;\n",
       "    }\n",
       "</style>\n",
       "<table border=\"1\" class=\"dataframe\">\n",
       "  <thead>\n",
       "    <tr style=\"text-align: right;\">\n",
       "      <th></th>\n",
       "      <th>Tweet</th>\n",
       "      <th>count_word</th>\n",
       "      <th>count_characters</th>\n",
       "    </tr>\n",
       "  </thead>\n",
       "  <tbody>\n",
       "    <tr>\n",
       "      <th>0</th>\n",
       "      <td>&lt;user&gt; i dunno justin read my mention or not ....</td>\n",
       "      <td>27</td>\n",
       "      <td>127</td>\n",
       "    </tr>\n",
       "    <tr>\n",
       "      <th>1</th>\n",
       "      <td>because your logic is so dumb , i won't even c...</td>\n",
       "      <td>21</td>\n",
       "      <td>91</td>\n",
       "    </tr>\n",
       "    <tr>\n",
       "      <th>2</th>\n",
       "      <td>\" &lt;user&gt; just put casper in a box ! \" looved t...</td>\n",
       "      <td>15</td>\n",
       "      <td>69</td>\n",
       "    </tr>\n",
       "    <tr>\n",
       "      <th>3</th>\n",
       "      <td>&lt;user&gt; &lt;user&gt; thanks sir &gt; &gt; don't trip lil ma...</td>\n",
       "      <td>17</td>\n",
       "      <td>78</td>\n",
       "    </tr>\n",
       "    <tr>\n",
       "      <th>4</th>\n",
       "      <td>visiting my brother tmr is the bestest birthda...</td>\n",
       "      <td>13</td>\n",
       "      <td>66</td>\n",
       "    </tr>\n",
       "    <tr>\n",
       "      <th>...</th>\n",
       "      <td>...</td>\n",
       "      <td>...</td>\n",
       "      <td>...</td>\n",
       "    </tr>\n",
       "    <tr>\n",
       "      <th>95</th>\n",
       "      <td>&lt;user&gt; it's once every 24 hours</td>\n",
       "      <td>6</td>\n",
       "      <td>31</td>\n",
       "    </tr>\n",
       "    <tr>\n",
       "      <th>96</th>\n",
       "      <td>&lt;user&gt; follow &lt;user&gt; cos she's a fully sick dog</td>\n",
       "      <td>9</td>\n",
       "      <td>47</td>\n",
       "    </tr>\n",
       "    <tr>\n",
       "      <th>97</th>\n",
       "      <td>&lt;user&gt; &lt;user&gt; thanks for the super sexy gold s...</td>\n",
       "      <td>15</td>\n",
       "      <td>78</td>\n",
       "    </tr>\n",
       "    <tr>\n",
       "      <th>98</th>\n",
       "      <td>&lt;user&gt; &lt;user&gt; &lt;user&gt; &lt;user&gt; &lt;user&gt; &lt;user&gt; &lt;use...</td>\n",
       "      <td>11</td>\n",
       "      <td>72</td>\n",
       "    </tr>\n",
       "    <tr>\n",
       "      <th>99</th>\n",
       "      <td>&lt;user&gt; i'm not sure if they are really aware o...</td>\n",
       "      <td>21</td>\n",
       "      <td>103</td>\n",
       "    </tr>\n",
       "  </tbody>\n",
       "</table>\n",
       "<p>100 rows × 3 columns</p>\n",
       "</div>"
      ],
      "text/plain": [
       "                                                Tweet  count_word  \\\n",
       "0   <user> i dunno justin read my mention or not ....          27   \n",
       "1   because your logic is so dumb , i won't even c...          21   \n",
       "2   \" <user> just put casper in a box ! \" looved t...          15   \n",
       "3   <user> <user> thanks sir > > don't trip lil ma...          17   \n",
       "4   visiting my brother tmr is the bestest birthda...          13   \n",
       "..                                                ...         ...   \n",
       "95                    <user> it's once every 24 hours           6   \n",
       "96    <user> follow <user> cos she's a fully sick dog           9   \n",
       "97  <user> <user> thanks for the super sexy gold s...          15   \n",
       "98  <user> <user> <user> <user> <user> <user> <use...          11   \n",
       "99  <user> i'm not sure if they are really aware o...          21   \n",
       "\n",
       "    count_characters  \n",
       "0                127  \n",
       "1                 91  \n",
       "2                 69  \n",
       "3                 78  \n",
       "4                 66  \n",
       "..               ...  \n",
       "95                31  \n",
       "96                47  \n",
       "97                78  \n",
       "98                72  \n",
       "99               103  \n",
       "\n",
       "[100 rows x 3 columns]"
      ]
     },
     "execution_count": 26,
     "metadata": {},
     "output_type": "execute_result"
    }
   ],
   "source": [
    "t_pos.head(100)"
   ]
  },
  {
   "cell_type": "code",
   "execution_count": 27,
   "id": "forty-narrative",
   "metadata": {},
   "outputs": [],
   "source": [
    "def load_contractions():\n",
    "    contraction_list = json.loads(open(PATH + 'english_contractions.json', 'r').read())\n",
    "    contraction_list['ur'] = \"your\"\n",
    "    contraction_list['ya'] = \"you\"\n",
    "    return contraction_list\n",
    "\n",
    "def remove_contractions(sentence, contraction_list):\n",
    "    sent_split = sentence.split(\" \")\n",
    "    sent_wo = [contraction_list[word] if word in contraction_list else word for word in sent_split]\n",
    "    return \" \".join(sent_wo)\n",
    "\n",
    "def remove_contractions_df(df, contraction_list,  col = 'Tweet'):\n",
    "    df[col + '_cont'] = df[col].progress_apply(lambda x : remove_contractions(x, contraction_list))\n",
    "    return df "
   ]
  },
  {
   "cell_type": "code",
   "execution_count": 28,
   "id": "destroyed-insight",
   "metadata": {},
   "outputs": [],
   "source": [
    "slang_list = json.loads(open(PATH + 'slang.json', 'r').read())\n",
    "\n",
    "def remove_slang(sentence):\n",
    "    sent_split = sentence.split(\" \")\n",
    "    sent_wo = [slang_list[word] if word in slang_list else word for word in sent_split]\n",
    "    return \" \".join(sent_wo)\n",
    "\n",
    "def remove_slang_df(df, col = 'Tweet_cont'):\n",
    "    df[col] = df[col].progress_apply(lambda x : remove_slang(x))\n",
    "    return df"
   ]
  },
  {
   "cell_type": "code",
   "execution_count": 29,
   "id": "blocked-syracuse",
   "metadata": {
    "scrolled": true
   },
   "outputs": [
    {
     "name": "stderr",
     "output_type": "stream",
     "text": [
      "100%|██████████| 1250000/1250000 [00:06<00:00, 197524.34it/s]\n",
      "100%|██████████| 1250000/1250000 [00:06<00:00, 182064.62it/s]\n"
     ]
    },
    {
     "data": {
      "text/html": [
       "<div>\n",
       "<style scoped>\n",
       "    .dataframe tbody tr th:only-of-type {\n",
       "        vertical-align: middle;\n",
       "    }\n",
       "\n",
       "    .dataframe tbody tr th {\n",
       "        vertical-align: top;\n",
       "    }\n",
       "\n",
       "    .dataframe thead th {\n",
       "        text-align: right;\n",
       "    }\n",
       "</style>\n",
       "<table border=\"1\" class=\"dataframe\">\n",
       "  <thead>\n",
       "    <tr style=\"text-align: right;\">\n",
       "      <th></th>\n",
       "      <th>Tweet</th>\n",
       "      <th>count_word</th>\n",
       "      <th>count_characters</th>\n",
       "      <th>Tweet_cont</th>\n",
       "    </tr>\n",
       "  </thead>\n",
       "  <tbody>\n",
       "    <tr>\n",
       "      <th>0</th>\n",
       "      <td>vinco tresorpack 6 ( difficulty 10 of 10 objec...</td>\n",
       "      <td>21</td>\n",
       "      <td>122</td>\n",
       "      <td>vinco tresorpack 6 ( difficulty 10 of 10 objec...</td>\n",
       "    </tr>\n",
       "    <tr>\n",
       "      <th>1</th>\n",
       "      <td>glad i dot have taks tomorrow ! ! #thankful #s...</td>\n",
       "      <td>10</td>\n",
       "      <td>52</td>\n",
       "      <td>glad i dot have taks tomorrow ! ! #thankful #s...</td>\n",
       "    </tr>\n",
       "    <tr>\n",
       "      <th>2</th>\n",
       "      <td>1-3 vs celtics in the regular season = were fu...</td>\n",
       "      <td>17</td>\n",
       "      <td>82</td>\n",
       "      <td>1-3 vs celtics in the regular season = we are ...</td>\n",
       "    </tr>\n",
       "    <tr>\n",
       "      <th>3</th>\n",
       "      <td>&lt;user&gt; i could actually kill that girl i'm so ...</td>\n",
       "      <td>13</td>\n",
       "      <td>57</td>\n",
       "      <td>&lt;user&gt; i could actually kill that girl I am so...</td>\n",
       "    </tr>\n",
       "    <tr>\n",
       "      <th>4</th>\n",
       "      <td>&lt;user&gt; &lt;user&gt; &lt;user&gt; i find that very hard to ...</td>\n",
       "      <td>12</td>\n",
       "      <td>63</td>\n",
       "      <td>&lt;user&gt; &lt;user&gt; &lt;user&gt; i find that very hard to ...</td>\n",
       "    </tr>\n",
       "    <tr>\n",
       "      <th>...</th>\n",
       "      <td>...</td>\n",
       "      <td>...</td>\n",
       "      <td>...</td>\n",
       "      <td>...</td>\n",
       "    </tr>\n",
       "    <tr>\n",
       "      <th>1249995</th>\n",
       "      <td>im so sorry ! &lt;user&gt; &amp; to &lt;user&gt; &amp; &lt;user&gt; u gu...</td>\n",
       "      <td>16</td>\n",
       "      <td>69</td>\n",
       "      <td>I am so sorry ! &lt;user&gt; &amp; to &lt;user&gt; &amp; &lt;user&gt; u ...</td>\n",
       "    </tr>\n",
       "    <tr>\n",
       "      <th>1249996</th>\n",
       "      <td>i can't find food coloring anywhere</td>\n",
       "      <td>6</td>\n",
       "      <td>35</td>\n",
       "      <td>i cannot find food coloring anywhere</td>\n",
       "    </tr>\n",
       "    <tr>\n",
       "      <th>1249997</th>\n",
       "      <td>&lt;user&gt; same here ! ! but tort ! ! wonder why y...</td>\n",
       "      <td>27</td>\n",
       "      <td>131</td>\n",
       "      <td>&lt;user&gt; same here ! ! but tort ! ! wonder why y...</td>\n",
       "    </tr>\n",
       "    <tr>\n",
       "      <th>1249998</th>\n",
       "      <td>keyless entry remote fob clicker for 2005 buic...</td>\n",
       "      <td>22</td>\n",
       "      <td>120</td>\n",
       "      <td>keyless entry remote fob clicker for 2005 buic...</td>\n",
       "    </tr>\n",
       "    <tr>\n",
       "      <th>1249999</th>\n",
       "      <td>&lt;user&gt; yeap . doctor don't know what's wrong w...</td>\n",
       "      <td>26</td>\n",
       "      <td>127</td>\n",
       "      <td>&lt;user&gt; yeap . doctor do not know what has wron...</td>\n",
       "    </tr>\n",
       "  </tbody>\n",
       "</table>\n",
       "<p>1250000 rows × 4 columns</p>\n",
       "</div>"
      ],
      "text/plain": [
       "                                                     Tweet  count_word  \\\n",
       "0        vinco tresorpack 6 ( difficulty 10 of 10 objec...          21   \n",
       "1        glad i dot have taks tomorrow ! ! #thankful #s...          10   \n",
       "2        1-3 vs celtics in the regular season = were fu...          17   \n",
       "3        <user> i could actually kill that girl i'm so ...          13   \n",
       "4        <user> <user> <user> i find that very hard to ...          12   \n",
       "...                                                    ...         ...   \n",
       "1249995  im so sorry ! <user> & to <user> & <user> u gu...          16   \n",
       "1249996                i can't find food coloring anywhere           6   \n",
       "1249997  <user> same here ! ! but tort ! ! wonder why y...          27   \n",
       "1249998  keyless entry remote fob clicker for 2005 buic...          22   \n",
       "1249999  <user> yeap . doctor don't know what's wrong w...          26   \n",
       "\n",
       "         count_characters                                         Tweet_cont  \n",
       "0                     122  vinco tresorpack 6 ( difficulty 10 of 10 objec...  \n",
       "1                      52  glad i dot have taks tomorrow ! ! #thankful #s...  \n",
       "2                      82  1-3 vs celtics in the regular season = we are ...  \n",
       "3                      57  <user> i could actually kill that girl I am so...  \n",
       "4                      63  <user> <user> <user> i find that very hard to ...  \n",
       "...                   ...                                                ...  \n",
       "1249995                69  I am so sorry ! <user> & to <user> & <user> u ...  \n",
       "1249996                35               i cannot find food coloring anywhere  \n",
       "1249997               131  <user> same here ! ! but tort ! ! wonder why y...  \n",
       "1249998               120  keyless entry remote fob clicker for 2005 buic...  \n",
       "1249999               127  <user> yeap . doctor do not know what has wron...  \n",
       "\n",
       "[1250000 rows x 4 columns]"
      ]
     },
     "execution_count": 29,
     "metadata": {},
     "output_type": "execute_result"
    }
   ],
   "source": [
    "contract_ls = load_contractions()\n",
    "\n",
    "remove_contractions_df(t_pos, contract_ls)\n",
    "remove_contractions_df(t_neg, contract_ls)\n"
   ]
  },
  {
   "cell_type": "code",
   "execution_count": 30,
   "id": "complex-charlotte",
   "metadata": {},
   "outputs": [
    {
     "data": {
      "text/plain": [
       "0           True\n",
       "1           True\n",
       "2           True\n",
       "3           True\n",
       "4           True\n",
       "           ...  \n",
       "1249995     True\n",
       "1249996     True\n",
       "1249997     True\n",
       "1249998     True\n",
       "1249999    False\n",
       "Name: Tweet_cont, Length: 1250000, dtype: bool"
      ]
     },
     "execution_count": 30,
     "metadata": {},
     "output_type": "execute_result"
    }
   ],
   "source": [
    "t_pos.Tweet_cont.str.islower()"
   ]
  },
  {
   "cell_type": "code",
   "execution_count": 31,
   "id": "ambient-moment",
   "metadata": {},
   "outputs": [
    {
     "data": {
      "text/plain": [
       "'<user> I am so excited for tomorrow ! look out for two leprechauns ! xx'"
      ]
     },
     "execution_count": 31,
     "metadata": {},
     "output_type": "execute_result"
    }
   ],
   "source": [
    "t_pos.Tweet_cont.iloc[99998]"
   ]
  },
  {
   "cell_type": "code",
   "execution_count": 32,
   "id": "attended-hanging",
   "metadata": {
    "scrolled": true
   },
   "outputs": [
    {
     "name": "stderr",
     "output_type": "stream",
     "text": [
      "100%|██████████| 1250000/1250000 [00:06<00:00, 181486.88it/s]\n",
      "100%|██████████| 1250000/1250000 [00:08<00:00, 148618.21it/s]\n"
     ]
    },
    {
     "data": {
      "text/html": [
       "<div>\n",
       "<style scoped>\n",
       "    .dataframe tbody tr th:only-of-type {\n",
       "        vertical-align: middle;\n",
       "    }\n",
       "\n",
       "    .dataframe tbody tr th {\n",
       "        vertical-align: top;\n",
       "    }\n",
       "\n",
       "    .dataframe thead th {\n",
       "        text-align: right;\n",
       "    }\n",
       "</style>\n",
       "<table border=\"1\" class=\"dataframe\">\n",
       "  <thead>\n",
       "    <tr style=\"text-align: right;\">\n",
       "      <th></th>\n",
       "      <th>Tweet</th>\n",
       "      <th>count_word</th>\n",
       "      <th>count_characters</th>\n",
       "      <th>Tweet_cont</th>\n",
       "    </tr>\n",
       "  </thead>\n",
       "  <tbody>\n",
       "    <tr>\n",
       "      <th>0</th>\n",
       "      <td>vinco tresorpack 6 ( difficulty 10 of 10 objec...</td>\n",
       "      <td>21</td>\n",
       "      <td>122</td>\n",
       "      <td>vinco tresorpack 6 ( difficulty 10 of 10 objec...</td>\n",
       "    </tr>\n",
       "    <tr>\n",
       "      <th>1</th>\n",
       "      <td>glad i dot have taks tomorrow ! ! #thankful #s...</td>\n",
       "      <td>10</td>\n",
       "      <td>52</td>\n",
       "      <td>glad i dot have taks tomorrow ! ! #thankful #s...</td>\n",
       "    </tr>\n",
       "    <tr>\n",
       "      <th>2</th>\n",
       "      <td>1-3 vs celtics in the regular season = were fu...</td>\n",
       "      <td>17</td>\n",
       "      <td>82</td>\n",
       "      <td>1-3 vs celtics in the regular season = we are ...</td>\n",
       "    </tr>\n",
       "    <tr>\n",
       "      <th>3</th>\n",
       "      <td>&lt;user&gt; i could actually kill that girl i'm so ...</td>\n",
       "      <td>13</td>\n",
       "      <td>57</td>\n",
       "      <td>&lt;user&gt; i could actually kill that girl I am so...</td>\n",
       "    </tr>\n",
       "    <tr>\n",
       "      <th>4</th>\n",
       "      <td>&lt;user&gt; &lt;user&gt; &lt;user&gt; i find that very hard to ...</td>\n",
       "      <td>12</td>\n",
       "      <td>63</td>\n",
       "      <td>&lt;user&gt; &lt;user&gt; &lt;user&gt; i find that very hard to ...</td>\n",
       "    </tr>\n",
       "    <tr>\n",
       "      <th>...</th>\n",
       "      <td>...</td>\n",
       "      <td>...</td>\n",
       "      <td>...</td>\n",
       "      <td>...</td>\n",
       "    </tr>\n",
       "    <tr>\n",
       "      <th>1249995</th>\n",
       "      <td>im so sorry ! &lt;user&gt; &amp; to &lt;user&gt; &amp; &lt;user&gt; u gu...</td>\n",
       "      <td>16</td>\n",
       "      <td>69</td>\n",
       "      <td>I am so sorry ! &lt;user&gt; &amp; to &lt;user&gt; &amp; &lt;user&gt; yo...</td>\n",
       "    </tr>\n",
       "    <tr>\n",
       "      <th>1249996</th>\n",
       "      <td>i can't find food coloring anywhere</td>\n",
       "      <td>6</td>\n",
       "      <td>35</td>\n",
       "      <td>i cannot find food coloring anywhere</td>\n",
       "    </tr>\n",
       "    <tr>\n",
       "      <th>1249997</th>\n",
       "      <td>&lt;user&gt; same here ! ! but tort ! ! wonder why y...</td>\n",
       "      <td>27</td>\n",
       "      <td>131</td>\n",
       "      <td>&lt;user&gt; same here ! ! but tort ! ! wonder why y...</td>\n",
       "    </tr>\n",
       "    <tr>\n",
       "      <th>1249998</th>\n",
       "      <td>keyless entry remote fob clicker for 2005 buic...</td>\n",
       "      <td>22</td>\n",
       "      <td>120</td>\n",
       "      <td>keyless entry remote fresh off the boat clicke...</td>\n",
       "    </tr>\n",
       "    <tr>\n",
       "      <th>1249999</th>\n",
       "      <td>&lt;user&gt; yeap . doctor don't know what's wrong w...</td>\n",
       "      <td>26</td>\n",
       "      <td>127</td>\n",
       "      <td>&lt;user&gt; yeap . doctor do not know what has wron...</td>\n",
       "    </tr>\n",
       "  </tbody>\n",
       "</table>\n",
       "<p>1250000 rows × 4 columns</p>\n",
       "</div>"
      ],
      "text/plain": [
       "                                                     Tweet  count_word  \\\n",
       "0        vinco tresorpack 6 ( difficulty 10 of 10 objec...          21   \n",
       "1        glad i dot have taks tomorrow ! ! #thankful #s...          10   \n",
       "2        1-3 vs celtics in the regular season = were fu...          17   \n",
       "3        <user> i could actually kill that girl i'm so ...          13   \n",
       "4        <user> <user> <user> i find that very hard to ...          12   \n",
       "...                                                    ...         ...   \n",
       "1249995  im so sorry ! <user> & to <user> & <user> u gu...          16   \n",
       "1249996                i can't find food coloring anywhere           6   \n",
       "1249997  <user> same here ! ! but tort ! ! wonder why y...          27   \n",
       "1249998  keyless entry remote fob clicker for 2005 buic...          22   \n",
       "1249999  <user> yeap . doctor don't know what's wrong w...          26   \n",
       "\n",
       "         count_characters                                         Tweet_cont  \n",
       "0                     122  vinco tresorpack 6 ( difficulty 10 of 10 objec...  \n",
       "1                      52  glad i dot have taks tomorrow ! ! #thankful #s...  \n",
       "2                      82  1-3 vs celtics in the regular season = we are ...  \n",
       "3                      57  <user> i could actually kill that girl I am so...  \n",
       "4                      63  <user> <user> <user> i find that very hard to ...  \n",
       "...                   ...                                                ...  \n",
       "1249995                69  I am so sorry ! <user> & to <user> & <user> yo...  \n",
       "1249996                35               i cannot find food coloring anywhere  \n",
       "1249997               131  <user> same here ! ! but tort ! ! wonder why y...  \n",
       "1249998               120  keyless entry remote fresh off the boat clicke...  \n",
       "1249999               127  <user> yeap . doctor do not know what has wron...  \n",
       "\n",
       "[1250000 rows x 4 columns]"
      ]
     },
     "execution_count": 32,
     "metadata": {},
     "output_type": "execute_result"
    }
   ],
   "source": [
    "remove_slang_df(t_pos)\n",
    "remove_slang_df(t_neg)"
   ]
  },
  {
   "cell_type": "code",
   "execution_count": 33,
   "id": "surgical-candidate",
   "metadata": {},
   "outputs": [],
   "source": [
    "t_pos['Tweet_cont'] = t_pos['Tweet_cont'].apply(lambda x : x.lower())\n",
    "t_neg['Tweet_cont'] = t_neg['Tweet_cont'].apply(lambda x : x.lower())"
   ]
  },
  {
   "cell_type": "code",
   "execution_count": 34,
   "id": "medium-detective",
   "metadata": {},
   "outputs": [
    {
     "data": {
      "text/plain": [
       "'<user> i am so excited for tomorrow ! look out for two leprechauns ! xx'"
      ]
     },
     "execution_count": 34,
     "metadata": {},
     "output_type": "execute_result"
    }
   ],
   "source": [
    "t_pos.Tweet_cont.iloc[99998]"
   ]
  },
  {
   "cell_type": "code",
   "execution_count": 35,
   "id": "coated-friendly",
   "metadata": {},
   "outputs": [
    {
     "name": "stderr",
     "output_type": "stream",
     "text": [
      "100%|██████████| 1250000/1250000 [04:16<00:00, 4871.03it/s]\n",
      "100%|██████████| 1250000/1250000 [04:51<00:00, 4292.01it/s]\n"
     ]
    }
   ],
   "source": [
    "stemmer = SnowballStemmer(\"english\")\n",
    "\n",
    "def stem_word(sent):\n",
    "    sent_sp = sent.split()\n",
    "    st = [stemmer.stem(w) for w in sent_sp]\n",
    "    return \" \".join(st)\n",
    "\n",
    "t_pos['Tweet_cont'] = t_pos['Tweet_cont'].progress_apply(lambda x : stem_word(x))\n",
    "t_neg['Tweet_cont'] = t_neg['Tweet_cont'].progress_apply(lambda x : stem_word(x))"
   ]
  },
  {
   "cell_type": "markdown",
   "id": "through-logan",
   "metadata": {},
   "source": [
    "## 6. Most frequent stop-words"
   ]
  },
  {
   "cell_type": "code",
   "execution_count": 36,
   "id": "otherwise-station",
   "metadata": {},
   "outputs": [
    {
     "name": "stderr",
     "output_type": "stream",
     "text": [
      "[nltk_data] Downloading package stopwords to\n",
      "[nltk_data]     /Users/clemencebarsi/nltk_data...\n",
      "[nltk_data]   Package stopwords is already up-to-date!\n",
      "100%|██████████| 1250000/1250000 [00:13<00:00, 90505.65it/s]\n",
      "100%|██████████| 1250000/1250000 [00:13<00:00, 95163.98it/s]\n",
      "100%|██████████| 1250000/1250000 [00:14<00:00, 88171.01it/s]\n",
      "100%|██████████| 1250000/1250000 [00:14<00:00, 86328.79it/s]\n"
     ]
    },
    {
     "data": {
      "text/html": [
       "<div>\n",
       "<style scoped>\n",
       "    .dataframe tbody tr th:only-of-type {\n",
       "        vertical-align: middle;\n",
       "    }\n",
       "\n",
       "    .dataframe tbody tr th {\n",
       "        vertical-align: top;\n",
       "    }\n",
       "\n",
       "    .dataframe thead th {\n",
       "        text-align: right;\n",
       "    }\n",
       "</style>\n",
       "<table border=\"1\" class=\"dataframe\">\n",
       "  <thead>\n",
       "    <tr style=\"text-align: right;\">\n",
       "      <th></th>\n",
       "      <th>Tweet</th>\n",
       "      <th>count_word</th>\n",
       "      <th>count_characters</th>\n",
       "      <th>Tweet_cont</th>\n",
       "      <th>no_sw</th>\n",
       "      <th>sw</th>\n",
       "    </tr>\n",
       "  </thead>\n",
       "  <tbody>\n",
       "    <tr>\n",
       "      <th>0</th>\n",
       "      <td>vinco tresorpack 6 ( difficulty 10 of 10 objec...</td>\n",
       "      <td>21</td>\n",
       "      <td>122</td>\n",
       "      <td>vinco tresorpack 6 ( difficulti 10 of 10 objec...</td>\n",
       "      <td>vinco tresorpack 6 ( difficulti 10 10 object :...</td>\n",
       "      <td>of and the this &lt;url&gt;</td>\n",
       "    </tr>\n",
       "    <tr>\n",
       "      <th>1</th>\n",
       "      <td>glad i dot have taks tomorrow ! ! #thankful #s...</td>\n",
       "      <td>10</td>\n",
       "      <td>52</td>\n",
       "      <td>glad i dot have tak tomorrow ! ! #thank #startho</td>\n",
       "      <td>glad dot tak tomorrow ! ! #thank #startho</td>\n",
       "      <td>i have</td>\n",
       "    </tr>\n",
       "    <tr>\n",
       "      <th>2</th>\n",
       "      <td>1-3 vs celtics in the regular season = were fu...</td>\n",
       "      <td>17</td>\n",
       "      <td>82</td>\n",
       "      <td>1-3 vs celtic in the regular season = we are f...</td>\n",
       "      <td>1-3 vs celtic regular season = fuck play playoff</td>\n",
       "      <td>in the we are if we them in the</td>\n",
       "    </tr>\n",
       "    <tr>\n",
       "      <th>3</th>\n",
       "      <td>&lt;user&gt; i could actually kill that girl i'm so ...</td>\n",
       "      <td>13</td>\n",
       "      <td>57</td>\n",
       "      <td>&lt;user&gt; i could actual kill that girl i am so s...</td>\n",
       "      <td>could actual kill girl sorri ! ! !</td>\n",
       "      <td>&lt;user&gt; i that i am so</td>\n",
       "    </tr>\n",
       "    <tr>\n",
       "      <th>4</th>\n",
       "      <td>&lt;user&gt; &lt;user&gt; &lt;user&gt; i find that very hard to ...</td>\n",
       "      <td>12</td>\n",
       "      <td>63</td>\n",
       "      <td>&lt;user&gt; &lt;user&gt; &lt;user&gt; i find that veri hard to ...</td>\n",
       "      <td>find veri hard believ afraid</td>\n",
       "      <td>&lt;user&gt; &lt;user&gt; &lt;user&gt; i that to i am</td>\n",
       "    </tr>\n",
       "    <tr>\n",
       "      <th>...</th>\n",
       "      <td>...</td>\n",
       "      <td>...</td>\n",
       "      <td>...</td>\n",
       "      <td>...</td>\n",
       "      <td>...</td>\n",
       "      <td>...</td>\n",
       "    </tr>\n",
       "    <tr>\n",
       "      <th>1249995</th>\n",
       "      <td>im so sorry ! &lt;user&gt; &amp; to &lt;user&gt; &amp; &lt;user&gt; u gu...</td>\n",
       "      <td>16</td>\n",
       "      <td>69</td>\n",
       "      <td>i am so sorri ! &lt;user&gt; &amp; to &lt;user&gt; &amp; &lt;user&gt; yo...</td>\n",
       "      <td>sorri ! &amp; &amp; guy ridicul ! &gt;:/</td>\n",
       "      <td>i am so &lt;user&gt; to &lt;user&gt; &lt;user&gt; you are</td>\n",
       "    </tr>\n",
       "    <tr>\n",
       "      <th>1249996</th>\n",
       "      <td>i can't find food coloring anywhere</td>\n",
       "      <td>6</td>\n",
       "      <td>35</td>\n",
       "      <td>i cannot find food color anywher</td>\n",
       "      <td>cannot find food color anywher</td>\n",
       "      <td>i</td>\n",
       "    </tr>\n",
       "    <tr>\n",
       "      <th>1249997</th>\n",
       "      <td>&lt;user&gt; same here ! ! but tort ! ! wonder why y...</td>\n",
       "      <td>27</td>\n",
       "      <td>131</td>\n",
       "      <td>&lt;user&gt; same here ! ! but tort ! ! wonder whi y...</td>\n",
       "      <td>! ! tort ! ! wonder whi chose crime modul haha...</td>\n",
       "      <td>&lt;user&gt; same here but you over all the other to...</td>\n",
       "    </tr>\n",
       "    <tr>\n",
       "      <th>1249998</th>\n",
       "      <td>keyless entry remote fob clicker for 2005 buic...</td>\n",
       "      <td>22</td>\n",
       "      <td>120</td>\n",
       "      <td>keyless entri remot fresh off the boat clicker...</td>\n",
       "      <td>keyless entri remot fresh boat clicker 2005 bu...</td>\n",
       "      <td>off the for be by not &lt;url&gt;</td>\n",
       "    </tr>\n",
       "    <tr>\n",
       "      <th>1249999</th>\n",
       "      <td>&lt;user&gt; yeap . doctor don't know what's wrong w...</td>\n",
       "      <td>26</td>\n",
       "      <td>127</td>\n",
       "      <td>&lt;user&gt; yeap . doctor do not know what has wron...</td>\n",
       "      <td>yeap . doctor know wrong laugh loud , either m...</td>\n",
       "      <td>&lt;user&gt; do not what has with me out or i don't ...</td>\n",
       "    </tr>\n",
       "  </tbody>\n",
       "</table>\n",
       "<p>1250000 rows × 6 columns</p>\n",
       "</div>"
      ],
      "text/plain": [
       "                                                     Tweet  count_word  \\\n",
       "0        vinco tresorpack 6 ( difficulty 10 of 10 objec...          21   \n",
       "1        glad i dot have taks tomorrow ! ! #thankful #s...          10   \n",
       "2        1-3 vs celtics in the regular season = were fu...          17   \n",
       "3        <user> i could actually kill that girl i'm so ...          13   \n",
       "4        <user> <user> <user> i find that very hard to ...          12   \n",
       "...                                                    ...         ...   \n",
       "1249995  im so sorry ! <user> & to <user> & <user> u gu...          16   \n",
       "1249996                i can't find food coloring anywhere           6   \n",
       "1249997  <user> same here ! ! but tort ! ! wonder why y...          27   \n",
       "1249998  keyless entry remote fob clicker for 2005 buic...          22   \n",
       "1249999  <user> yeap . doctor don't know what's wrong w...          26   \n",
       "\n",
       "         count_characters                                         Tweet_cont  \\\n",
       "0                     122  vinco tresorpack 6 ( difficulti 10 of 10 objec...   \n",
       "1                      52   glad i dot have tak tomorrow ! ! #thank #startho   \n",
       "2                      82  1-3 vs celtic in the regular season = we are f...   \n",
       "3                      57  <user> i could actual kill that girl i am so s...   \n",
       "4                      63  <user> <user> <user> i find that veri hard to ...   \n",
       "...                   ...                                                ...   \n",
       "1249995                69  i am so sorri ! <user> & to <user> & <user> yo...   \n",
       "1249996                35                   i cannot find food color anywher   \n",
       "1249997               131  <user> same here ! ! but tort ! ! wonder whi y...   \n",
       "1249998               120  keyless entri remot fresh off the boat clicker...   \n",
       "1249999               127  <user> yeap . doctor do not know what has wron...   \n",
       "\n",
       "                                                     no_sw  \\\n",
       "0        vinco tresorpack 6 ( difficulti 10 10 object :...   \n",
       "1                glad dot tak tomorrow ! ! #thank #startho   \n",
       "2         1-3 vs celtic regular season = fuck play playoff   \n",
       "3                       could actual kill girl sorri ! ! !   \n",
       "4                             find veri hard believ afraid   \n",
       "...                                                    ...   \n",
       "1249995                      sorri ! & & guy ridicul ! >:/   \n",
       "1249996                     cannot find food color anywher   \n",
       "1249997  ! ! tort ! ! wonder whi chose crime modul haha...   \n",
       "1249998  keyless entri remot fresh boat clicker 2005 bu...   \n",
       "1249999  yeap . doctor know wrong laugh loud , either m...   \n",
       "\n",
       "                                                        sw  \n",
       "0                                    of and the this <url>  \n",
       "1                                                   i have  \n",
       "2                          in the we are if we them in the  \n",
       "3                                    <user> i that i am so  \n",
       "4                      <user> <user> <user> i that to i am  \n",
       "...                                                    ...  \n",
       "1249995            i am so <user> to <user> <user> you are  \n",
       "1249996                                                  i  \n",
       "1249997  <user> same here but you over all the other to...  \n",
       "1249998                        off the for be by not <url>  \n",
       "1249999  <user> do not what has with me out or i don't ...  \n",
       "\n",
       "[1250000 rows x 6 columns]"
      ]
     },
     "execution_count": 36,
     "metadata": {},
     "output_type": "execute_result"
    }
   ],
   "source": [
    "nltk.download('stopwords')\n",
    "\n",
    "def load_stopwords():\n",
    "    all_stopwords = stopwords.words('english')\n",
    "    all_stopwords.append('<user>')\n",
    "    all_stopwords.append('<url>')\n",
    "    all_stopwords.append('i')\n",
    "    return all_stopwords\n",
    "\n",
    "def remove_stopwords(sentence, all_stopwords):\n",
    "    sent_split = sentence.split(\" \")\n",
    "    \n",
    "    all_stopwords = set(all_stopwords) # set() heremakes it at least 10x faster\n",
    "    sent_without_sw = [word for word in sent_split if not word in all_stopwords]\n",
    "    no_sw = \" \".join(sent_without_sw)\n",
    "    return no_sw\n",
    "\n",
    "def only_stopwords(sentence, all_stopwords):\n",
    "    sent_split = sentence.split(\" \")\n",
    "    all_stopwords = set(all_stopwords)\n",
    "    sw = [word for word in sent_split if word in all_stopwords]\n",
    "    sw_j = \" \".join(sw)\n",
    "    return sw_j\n",
    "\n",
    "def remove_stopwords_df(df, col = 'Tweet_cont'):\n",
    "    df['no_sw'] = df[col].progress_apply(lambda x : remove_stopwords(x, all_stopwords))\n",
    "    df['sw'] = df[col].progress_apply(lambda x : only_stopwords(x, all_stopwords))\n",
    "    return df\n",
    "\n",
    "all_stopwords = load_stopwords()\n",
    "remove_stopwords_df(t_pos)\n",
    "remove_stopwords_df(t_neg)"
   ]
  },
  {
   "cell_type": "code",
   "execution_count": 37,
   "id": "global-growth",
   "metadata": {},
   "outputs": [
    {
     "data": {
      "text/plain": [
       "0          True\n",
       "1          True\n",
       "2          True\n",
       "3          True\n",
       "4          True\n",
       "           ... \n",
       "1249995    True\n",
       "1249996    True\n",
       "1249997    True\n",
       "1249998    True\n",
       "1249999    True\n",
       "Name: Tweet_cont, Length: 1250000, dtype: bool"
      ]
     },
     "execution_count": 37,
     "metadata": {},
     "output_type": "execute_result"
    }
   ],
   "source": [
    "t_pos.Tweet_cont.str.islower()\n"
   ]
  },
  {
   "cell_type": "code",
   "execution_count": 38,
   "id": "naked-compatibility",
   "metadata": {},
   "outputs": [],
   "source": [
    "count_pos_sw = t_pos.sw.str.split(expand = True).stack().value_counts()"
   ]
  },
  {
   "cell_type": "code",
   "execution_count": 39,
   "id": "appreciated-realtor",
   "metadata": {},
   "outputs": [],
   "source": [
    "count_neg_sw = t_neg.sw.str.split(expand = True).stack().value_counts()"
   ]
  },
  {
   "cell_type": "code",
   "execution_count": 40,
   "id": "increased-locator",
   "metadata": {},
   "outputs": [
    {
     "data": {
      "text/plain": [
       "<user>    1027186\n",
       "i          639229\n",
       "you        528273\n",
       "to         393353\n",
       "the        339442\n",
       "           ...   \n",
       "weren           2\n",
       "hasn            2\n",
       "hadn            1\n",
       "being           1\n",
       "you'll          1\n",
       "Length: 143, dtype: int64"
      ]
     },
     "execution_count": 40,
     "metadata": {},
     "output_type": "execute_result"
    }
   ],
   "source": [
    "count_pos_sw"
   ]
  },
  {
   "cell_type": "markdown",
   "id": "complex-lightweight",
   "metadata": {},
   "source": [
    "## 7. Most frequent special characters"
   ]
  },
  {
   "cell_type": "code",
   "execution_count": 41,
   "id": "alien-colleague",
   "metadata": {},
   "outputs": [],
   "source": [
    "tokenizer = nltk.RegexpTokenizer(r\"\\w+\")\n",
    "import re\n",
    "\n",
    "pattern = r'[0-9]'\n",
    "\n",
    "from string import ascii_letters, digits, punctuation\n",
    "\n",
    "\n",
    "def remove_punct_df(df, col = 'no_sw'):\n",
    "    df['without_punc'] = df[col].progress_apply(lambda x :\" \".join(tokenizer.tokenize(x)))\n",
    "    df['punc'] = df[col].progress_apply(lambda x : re.sub(r'[^{}]+'.format(punctuation),' ',x))\n",
    "    return df"
   ]
  },
  {
   "cell_type": "code",
   "execution_count": 42,
   "id": "quantitative-athens",
   "metadata": {},
   "outputs": [
    {
     "name": "stderr",
     "output_type": "stream",
     "text": [
      "100%|██████████| 1250000/1250000 [00:06<00:00, 193368.72it/s]\n",
      "100%|██████████| 1250000/1250000 [00:05<00:00, 232251.17it/s]\n",
      "100%|██████████| 1250000/1250000 [00:07<00:00, 163242.35it/s]\n",
      "100%|██████████| 1250000/1250000 [00:05<00:00, 218886.51it/s]\n"
     ]
    },
    {
     "data": {
      "text/html": [
       "<div>\n",
       "<style scoped>\n",
       "    .dataframe tbody tr th:only-of-type {\n",
       "        vertical-align: middle;\n",
       "    }\n",
       "\n",
       "    .dataframe tbody tr th {\n",
       "        vertical-align: top;\n",
       "    }\n",
       "\n",
       "    .dataframe thead th {\n",
       "        text-align: right;\n",
       "    }\n",
       "</style>\n",
       "<table border=\"1\" class=\"dataframe\">\n",
       "  <thead>\n",
       "    <tr style=\"text-align: right;\">\n",
       "      <th></th>\n",
       "      <th>Tweet</th>\n",
       "      <th>count_word</th>\n",
       "      <th>count_characters</th>\n",
       "      <th>Tweet_cont</th>\n",
       "      <th>no_sw</th>\n",
       "      <th>sw</th>\n",
       "      <th>without_punc</th>\n",
       "      <th>punc</th>\n",
       "    </tr>\n",
       "  </thead>\n",
       "  <tbody>\n",
       "    <tr>\n",
       "      <th>0</th>\n",
       "      <td>vinco tresorpack 6 ( difficulty 10 of 10 objec...</td>\n",
       "      <td>21</td>\n",
       "      <td>122</td>\n",
       "      <td>vinco tresorpack 6 ( difficulti 10 of 10 objec...</td>\n",
       "      <td>vinco tresorpack 6 ( difficulti 10 10 object :...</td>\n",
       "      <td>of and the this &lt;url&gt;</td>\n",
       "      <td>vinco tresorpack 6 difficulti 10 10 object dis...</td>\n",
       "      <td>( : ...</td>\n",
       "    </tr>\n",
       "    <tr>\n",
       "      <th>1</th>\n",
       "      <td>glad i dot have taks tomorrow ! ! #thankful #s...</td>\n",
       "      <td>10</td>\n",
       "      <td>52</td>\n",
       "      <td>glad i dot have tak tomorrow ! ! #thank #startho</td>\n",
       "      <td>glad dot tak tomorrow ! ! #thank #startho</td>\n",
       "      <td>i have</td>\n",
       "      <td>glad dot tak tomorrow thank startho</td>\n",
       "      <td>! ! # #</td>\n",
       "    </tr>\n",
       "    <tr>\n",
       "      <th>2</th>\n",
       "      <td>1-3 vs celtics in the regular season = were fu...</td>\n",
       "      <td>17</td>\n",
       "      <td>82</td>\n",
       "      <td>1-3 vs celtic in the regular season = we are f...</td>\n",
       "      <td>1-3 vs celtic regular season = fuck play playoff</td>\n",
       "      <td>in the we are if we them in the</td>\n",
       "      <td>1 3 vs celtic regular season fuck play playoff</td>\n",
       "      <td>- =</td>\n",
       "    </tr>\n",
       "    <tr>\n",
       "      <th>3</th>\n",
       "      <td>&lt;user&gt; i could actually kill that girl i'm so ...</td>\n",
       "      <td>13</td>\n",
       "      <td>57</td>\n",
       "      <td>&lt;user&gt; i could actual kill that girl i am so s...</td>\n",
       "      <td>could actual kill girl sorri ! ! !</td>\n",
       "      <td>&lt;user&gt; i that i am so</td>\n",
       "      <td>could actual kill girl sorri</td>\n",
       "      <td>! ! !</td>\n",
       "    </tr>\n",
       "    <tr>\n",
       "      <th>4</th>\n",
       "      <td>&lt;user&gt; &lt;user&gt; &lt;user&gt; i find that very hard to ...</td>\n",
       "      <td>12</td>\n",
       "      <td>63</td>\n",
       "      <td>&lt;user&gt; &lt;user&gt; &lt;user&gt; i find that veri hard to ...</td>\n",
       "      <td>find veri hard believ afraid</td>\n",
       "      <td>&lt;user&gt; &lt;user&gt; &lt;user&gt; i that to i am</td>\n",
       "      <td>find veri hard believ afraid</td>\n",
       "      <td></td>\n",
       "    </tr>\n",
       "    <tr>\n",
       "      <th>...</th>\n",
       "      <td>...</td>\n",
       "      <td>...</td>\n",
       "      <td>...</td>\n",
       "      <td>...</td>\n",
       "      <td>...</td>\n",
       "      <td>...</td>\n",
       "      <td>...</td>\n",
       "      <td>...</td>\n",
       "    </tr>\n",
       "    <tr>\n",
       "      <th>1249995</th>\n",
       "      <td>im so sorry ! &lt;user&gt; &amp; to &lt;user&gt; &amp; &lt;user&gt; u gu...</td>\n",
       "      <td>16</td>\n",
       "      <td>69</td>\n",
       "      <td>i am so sorri ! &lt;user&gt; &amp; to &lt;user&gt; &amp; &lt;user&gt; yo...</td>\n",
       "      <td>sorri ! &amp; &amp; guy ridicul ! &gt;:/</td>\n",
       "      <td>i am so &lt;user&gt; to &lt;user&gt; &lt;user&gt; you are</td>\n",
       "      <td>sorri guy ridicul</td>\n",
       "      <td>! &amp; &amp; ! &gt;:/</td>\n",
       "    </tr>\n",
       "    <tr>\n",
       "      <th>1249996</th>\n",
       "      <td>i can't find food coloring anywhere</td>\n",
       "      <td>6</td>\n",
       "      <td>35</td>\n",
       "      <td>i cannot find food color anywher</td>\n",
       "      <td>cannot find food color anywher</td>\n",
       "      <td>i</td>\n",
       "      <td>cannot find food color anywher</td>\n",
       "      <td></td>\n",
       "    </tr>\n",
       "    <tr>\n",
       "      <th>1249997</th>\n",
       "      <td>&lt;user&gt; same here ! ! but tort ! ! wonder why y...</td>\n",
       "      <td>27</td>\n",
       "      <td>131</td>\n",
       "      <td>&lt;user&gt; same here ! ! but tort ! ! wonder whi y...</td>\n",
       "      <td>! ! tort ! ! wonder whi chose crime modul haha...</td>\n",
       "      <td>&lt;user&gt; same here but you over all the other to...</td>\n",
       "      <td>tort wonder whi chose crime modul hahaa tri im...</td>\n",
       "      <td>! ! ! ! ?</td>\n",
       "    </tr>\n",
       "    <tr>\n",
       "      <th>1249998</th>\n",
       "      <td>keyless entry remote fob clicker for 2005 buic...</td>\n",
       "      <td>22</td>\n",
       "      <td>120</td>\n",
       "      <td>keyless entri remot fresh off the boat clicker...</td>\n",
       "      <td>keyless entri remot fresh boat clicker 2005 bu...</td>\n",
       "      <td>off the for be by not &lt;url&gt;</td>\n",
       "      <td>keyless entri remot fresh boat clicker 2005 bu...</td>\n",
       "      <td>- ( ...</td>\n",
       "    </tr>\n",
       "    <tr>\n",
       "      <th>1249999</th>\n",
       "      <td>&lt;user&gt; yeap . doctor don't know what's wrong w...</td>\n",
       "      <td>26</td>\n",
       "      <td>127</td>\n",
       "      <td>&lt;user&gt; yeap . doctor do not know what has wron...</td>\n",
       "      <td>yeap . doctor know wrong laugh loud , either m...</td>\n",
       "      <td>&lt;user&gt; do not what has with me out or i don't ...</td>\n",
       "      <td>yeap doctor know wrong laugh loud either migra...</td>\n",
       "      <td>. , . . .</td>\n",
       "    </tr>\n",
       "  </tbody>\n",
       "</table>\n",
       "<p>1250000 rows × 8 columns</p>\n",
       "</div>"
      ],
      "text/plain": [
       "                                                     Tweet  count_word  \\\n",
       "0        vinco tresorpack 6 ( difficulty 10 of 10 objec...          21   \n",
       "1        glad i dot have taks tomorrow ! ! #thankful #s...          10   \n",
       "2        1-3 vs celtics in the regular season = were fu...          17   \n",
       "3        <user> i could actually kill that girl i'm so ...          13   \n",
       "4        <user> <user> <user> i find that very hard to ...          12   \n",
       "...                                                    ...         ...   \n",
       "1249995  im so sorry ! <user> & to <user> & <user> u gu...          16   \n",
       "1249996                i can't find food coloring anywhere           6   \n",
       "1249997  <user> same here ! ! but tort ! ! wonder why y...          27   \n",
       "1249998  keyless entry remote fob clicker for 2005 buic...          22   \n",
       "1249999  <user> yeap . doctor don't know what's wrong w...          26   \n",
       "\n",
       "         count_characters                                         Tweet_cont  \\\n",
       "0                     122  vinco tresorpack 6 ( difficulti 10 of 10 objec...   \n",
       "1                      52   glad i dot have tak tomorrow ! ! #thank #startho   \n",
       "2                      82  1-3 vs celtic in the regular season = we are f...   \n",
       "3                      57  <user> i could actual kill that girl i am so s...   \n",
       "4                      63  <user> <user> <user> i find that veri hard to ...   \n",
       "...                   ...                                                ...   \n",
       "1249995                69  i am so sorri ! <user> & to <user> & <user> yo...   \n",
       "1249996                35                   i cannot find food color anywher   \n",
       "1249997               131  <user> same here ! ! but tort ! ! wonder whi y...   \n",
       "1249998               120  keyless entri remot fresh off the boat clicker...   \n",
       "1249999               127  <user> yeap . doctor do not know what has wron...   \n",
       "\n",
       "                                                     no_sw  \\\n",
       "0        vinco tresorpack 6 ( difficulti 10 10 object :...   \n",
       "1                glad dot tak tomorrow ! ! #thank #startho   \n",
       "2         1-3 vs celtic regular season = fuck play playoff   \n",
       "3                       could actual kill girl sorri ! ! !   \n",
       "4                             find veri hard believ afraid   \n",
       "...                                                    ...   \n",
       "1249995                      sorri ! & & guy ridicul ! >:/   \n",
       "1249996                     cannot find food color anywher   \n",
       "1249997  ! ! tort ! ! wonder whi chose crime modul haha...   \n",
       "1249998  keyless entri remot fresh boat clicker 2005 bu...   \n",
       "1249999  yeap . doctor know wrong laugh loud , either m...   \n",
       "\n",
       "                                                        sw  \\\n",
       "0                                    of and the this <url>   \n",
       "1                                                   i have   \n",
       "2                          in the we are if we them in the   \n",
       "3                                    <user> i that i am so   \n",
       "4                      <user> <user> <user> i that to i am   \n",
       "...                                                    ...   \n",
       "1249995            i am so <user> to <user> <user> you are   \n",
       "1249996                                                  i   \n",
       "1249997  <user> same here but you over all the other to...   \n",
       "1249998                        off the for be by not <url>   \n",
       "1249999  <user> do not what has with me out or i don't ...   \n",
       "\n",
       "                                              without_punc          punc  \n",
       "0        vinco tresorpack 6 difficulti 10 10 object dis...       ( : ...  \n",
       "1                      glad dot tak tomorrow thank startho      ! ! # #   \n",
       "2           1 3 vs celtic regular season fuck play playoff          - =   \n",
       "3                             could actual kill girl sorri         ! ! !  \n",
       "4                             find veri hard believ afraid                \n",
       "...                                                    ...           ...  \n",
       "1249995                                  sorri guy ridicul   ! & & ! >:/  \n",
       "1249996                     cannot find food color anywher                \n",
       "1249997  tort wonder whi chose crime modul hahaa tri im...     ! ! ! ! ?  \n",
       "1249998  keyless entri remot fresh boat clicker 2005 bu...       - ( ...  \n",
       "1249999  yeap doctor know wrong laugh loud either migra...     . , . . .  \n",
       "\n",
       "[1250000 rows x 8 columns]"
      ]
     },
     "execution_count": 42,
     "metadata": {},
     "output_type": "execute_result"
    }
   ],
   "source": [
    "remove_punct_df(t_pos)\n",
    "remove_punct_df(t_neg)"
   ]
  },
  {
   "cell_type": "code",
   "execution_count": 43,
   "id": "individual-reach",
   "metadata": {},
   "outputs": [],
   "source": [
    "count_pos_punct = t_pos.punc.str.split(expand = True).stack().value_counts()\n",
    "count_neg_punct = t_neg.punc.str.split(expand = True).stack().value_counts()"
   ]
  },
  {
   "cell_type": "code",
   "execution_count": 44,
   "id": "naughty-updating",
   "metadata": {},
   "outputs": [
    {
     "data": {
      "text/plain": [
       "!       633765\n",
       ".       398593\n",
       ",       346296\n",
       "#       217015\n",
       "?       194681\n",
       "         ...  \n",
       "<->          1\n",
       ">:-{         1\n",
       "-'-          1\n",
       ";{           1\n",
       "]':          1\n",
       "Length: 210, dtype: int64"
      ]
     },
     "execution_count": 44,
     "metadata": {},
     "output_type": "execute_result"
    }
   ],
   "source": [
    "count_pos_punct"
   ]
  },
  {
   "cell_type": "markdown",
   "id": "variable-capture",
   "metadata": {},
   "source": [
    "## 8. Most frequent words without special characters and without stopwords"
   ]
  },
  {
   "cell_type": "code",
   "execution_count": 45,
   "id": "oriented-analyst",
   "metadata": {},
   "outputs": [],
   "source": [
    "count_pos_no_punct_sw = t_pos.without_punc.str.split(expand = True).stack().value_counts()\n",
    "count_neg_no_punct_sw = t_neg.without_punc.str.split(expand = True).stack().value_counts()\n"
   ]
  },
  {
   "cell_type": "code",
   "execution_count": 46,
   "id": "sustainable-creek",
   "metadata": {},
   "outputs": [
    {
     "data": {
      "text/plain": [
       "love             111247\n",
       "thank            108613\n",
       "follow           105317\n",
       "go                92135\n",
       "rt                87664\n",
       "                  ...  \n",
       "voxlap                1\n",
       "charlottetown         1\n",
       "collegewish           1\n",
       "scoreless             1\n",
       "ewallet               1\n",
       "Length: 224344, dtype: int64"
      ]
     },
     "execution_count": 46,
     "metadata": {},
     "output_type": "execute_result"
    }
   ],
   "source": [
    "count_pos_no_punct_sw"
   ]
  },
  {
   "cell_type": "code",
   "execution_count": 47,
   "id": "successful-eclipse",
   "metadata": {},
   "outputs": [
    {
     "data": {
      "text/plain": [
       "frame            102690\n",
       "go                98521\n",
       "want              74474\n",
       "get               63393\n",
       "2                 60049\n",
       "                  ...  \n",
       "notahapybunni         1\n",
       "60025                 1\n",
       "jpot                  1\n",
       "stamps                1\n",
       "ajeb                  1\n",
       "Length: 293889, dtype: int64"
      ]
     },
     "execution_count": 47,
     "metadata": {},
     "output_type": "execute_result"
    }
   ],
   "source": [
    "count_neg_no_punct_sw "
   ]
  },
  {
   "cell_type": "markdown",
   "id": "competitive-republic",
   "metadata": {},
   "source": [
    "## 9. Plotting"
   ]
  },
  {
   "cell_type": "code",
   "execution_count": 48,
   "id": "known-withdrawal",
   "metadata": {},
   "outputs": [],
   "source": [
    "value_neg = pd.DataFrame()"
   ]
  },
  {
   "cell_type": "code",
   "execution_count": 49,
   "id": "metric-oriental",
   "metadata": {},
   "outputs": [],
   "source": [
    "neg_no_punct_sw = count_neg_no_punct_sw.to_frame(name = 'nbr').head(10)\n",
    "pos_no_punct_sw = count_pos_no_punct_sw.to_frame(name = 'nbr').head(10)\n",
    "\n",
    "pos_punct = count_pos_punct.to_frame(name = 'nbr').head(10)\n",
    "neg_punct = count_neg_punct.to_frame(name = 'nbr').head(10)\n",
    "\n",
    "pos_sw = count_pos_sw.to_frame(name = 'nbr').head(10)\n",
    "neg_sw = count_neg_sw.to_frame(name = 'nbr').head(10)"
   ]
  },
  {
   "cell_type": "code",
   "execution_count": 50,
   "id": "little-trademark",
   "metadata": {},
   "outputs": [
    {
     "data": {
      "text/html": [
       "<div>\n",
       "<style scoped>\n",
       "    .dataframe tbody tr th:only-of-type {\n",
       "        vertical-align: middle;\n",
       "    }\n",
       "\n",
       "    .dataframe tbody tr th {\n",
       "        vertical-align: top;\n",
       "    }\n",
       "\n",
       "    .dataframe thead th {\n",
       "        text-align: right;\n",
       "    }\n",
       "</style>\n",
       "<table border=\"1\" class=\"dataframe\">\n",
       "  <thead>\n",
       "    <tr style=\"text-align: right;\">\n",
       "      <th></th>\n",
       "      <th>nbr</th>\n",
       "    </tr>\n",
       "  </thead>\n",
       "  <tbody>\n",
       "    <tr>\n",
       "      <th>&lt;user&gt;</th>\n",
       "      <td>1027186</td>\n",
       "    </tr>\n",
       "    <tr>\n",
       "      <th>i</th>\n",
       "      <td>639229</td>\n",
       "    </tr>\n",
       "    <tr>\n",
       "      <th>you</th>\n",
       "      <td>528273</td>\n",
       "    </tr>\n",
       "    <tr>\n",
       "      <th>to</th>\n",
       "      <td>393353</td>\n",
       "    </tr>\n",
       "    <tr>\n",
       "      <th>the</th>\n",
       "      <td>339442</td>\n",
       "    </tr>\n",
       "    <tr>\n",
       "      <th>a</th>\n",
       "      <td>269448</td>\n",
       "    </tr>\n",
       "    <tr>\n",
       "      <th>is</th>\n",
       "      <td>238692</td>\n",
       "    </tr>\n",
       "    <tr>\n",
       "      <th>it</th>\n",
       "      <td>229659</td>\n",
       "    </tr>\n",
       "    <tr>\n",
       "      <th>and</th>\n",
       "      <td>226325</td>\n",
       "    </tr>\n",
       "    <tr>\n",
       "      <th>my</th>\n",
       "      <td>225578</td>\n",
       "    </tr>\n",
       "  </tbody>\n",
       "</table>\n",
       "</div>"
      ],
      "text/plain": [
       "            nbr\n",
       "<user>  1027186\n",
       "i        639229\n",
       "you      528273\n",
       "to       393353\n",
       "the      339442\n",
       "a        269448\n",
       "is       238692\n",
       "it       229659\n",
       "and      226325\n",
       "my       225578"
      ]
     },
     "execution_count": 50,
     "metadata": {},
     "output_type": "execute_result"
    }
   ],
   "source": [
    "pos_sw"
   ]
  },
  {
   "cell_type": "code",
   "execution_count": 63,
   "id": "dense-burner",
   "metadata": {},
   "outputs": [
    {
     "data": {
      "text/plain": [
       "Text(0.25, -0.06, 'Most frequently appearing strings')"
      ]
     },
     "execution_count": 63,
     "metadata": {},
     "output_type": "execute_result"
    },
    {
     "data": {
      "image/png": "[encoded data removed]",
      "text/plain": [
       "<Figure size 936x720 with 6 Axes>"
      ]
     },
     "metadata": {
      "needs_background": "light"
     },
     "output_type": "display_data"
    }
   ],
   "source": [
    "to_plot = [pos_no_punct_sw, pos_sw, pos_punct, neg_no_punct_sw, neg_sw, neg_punct]\n",
    "\n",
    "#to_plot = {pos_no_punct_sw : 'Words without punctuation nor stop wods', pos_sw :}\n",
    "\n",
    "fig, ax = plt.subplots(3, 2, figsize = (13, 10), sharey = 'row', constrained_layout =True)\n",
    "\n",
    "x = np.arange(10)\n",
    "\n",
    "for i in range(2):\n",
    "    for j in range(3):\n",
    "        names = to_plot[i*3+j].index\n",
    "        values = to_plot[i*3+j].nbr\n",
    "        ax[j, i].bar(names, values)\n",
    "        ax[j, i].tick_params(axis = 'y', labelsize =15 )      \n",
    "        if j==2:\n",
    "            ax[j, i].tick_params(axis = 'x', labelsize=20)\n",
    "        else :\n",
    "            ax[j, i].tick_params(axis = 'x', labelsize =15 )\n",
    "\n",
    "#plt.rc('xtick', labelsize = 30)\n",
    "fig.suptitle(\"Top-10 occurring strings for each category\", fontsize = 40)\n",
    "fig.text(-0.05,0.3, \"Number of occurences\", rotation = 90, fontsize=30)\n",
    "fig.text(-0.02,0.75, \"Tokens\", rotation = 90, fontsize=20)\n",
    "fig.text(-0.02,0.40, \"Stop words\", rotation = 90, fontsize=20)\n",
    "fig.text(-0.02,0.10, \"Punctuation\", rotation = 90, fontsize=20)\n",
    "fig.text(0.15,-0.02, \"Positive tweets\", fontsize=20)\n",
    "fig.text(0.65, -0.02, \"Negative tweets\", fontsize = 20)\n",
    "fig.text(0.25, -0.06, \"Most frequently appearing strings\", fontsize=30)\n",
    "\n",
    "\n"
   ]
  },
  {
   "cell_type": "code",
   "execution_count": null,
   "id": "caring-programming",
   "metadata": {},
   "outputs": [],
   "source": []
  }
 ],
 "metadata": {
  "kernelspec": {
   "display_name": "Python 3",
   "language": "python",
   "name": "python3"
  },
  "language_info": {
   "codemirror_mode": {
    "name": "ipython",
    "version": 3
   },
   "file_extension": ".py",
   "mimetype": "text/x-python",
   "name": "python",
   "nbconvert_exporter": "python",
   "pygments_lexer": "ipython3",
   "version": "3.8.5"
  }
 },
 "nbformat": 4,
 "nbformat_minor": 5
}
